{
 "cells": [
  {
   "cell_type": "code",
   "execution_count": 21,
   "metadata": {},
   "outputs": [
    {
     "name": "stdout",
     "output_type": "stream",
     "text": [
      "First-order energy correction for the ground state of helium: 6868843165.773279 eV\n"
     ]
    }
   ],
   "source": [
    "import numpy as np\n",
    "from scipy.constants import physical_constants\n",
    "from scipy.integrate import nquad\n",
    "\n",
    "# Physical constants\n",
    "a0 = physical_constants['Bohr radius'][0]  # Bohr radius in meters\n",
    "Z = 2  # Nuclear charge for helium\n",
    "Z_eff = 27 / 16  # Effective nuclear charge approximation\n",
    "\n",
    "# Hydrogen-like 1s wave function for effective nuclear charge Z_eff\n",
    "def psi_1s(r, Z_eff):\n",
    "    return (Z_eff / a0)**(3/2) * np.exp(-Z_eff * r / a0) / np.sqrt(np.pi)\n",
    "\n",
    "# Electron-electron repulsion potential \n",
    "def V(r1, r2, theta):\n",
    "    r12 = np.sqrt(r1**2 + r2**2 - 2*r1*r2*np.cos(theta))\n",
    "    return 1 / r12\n",
    "\n",
    "# Integrand for the first-order energy correction\n",
    "def integrand(r1, r2, theta):\n",
    "    psi = psi_1s(r1, Z_eff) * psi_1s(r2, Z_eff)\n",
    "    return psi**2 * V(r1, r2, theta) * r1**2 * r2**2 * np.sin(theta)\n",
    "\n",
    "# Numerical integration limits\n",
    "r_min, r_max = 0, 20 * a0\n",
    "theta_min, theta_max = 0, np.pi\n",
    "\n",
    "# Perform numerical integration\n",
    "E0_1, error = nquad(integrand, [[r_min, r_max], [r_min, r_max], [theta_min, theta_max]])\n",
    "\n",
    "# Convert energy from atomic units to electron volts\n",
    "hartree_to_eV = physical_constants['Hartree energy in eV'][0]\n",
    "E0_1_eV = E0_1 * hartree_to_eV\n",
    "\n",
    "print(f\"First-order energy correction for the ground state of helium: {E0_1_eV:.6f} eV\")"
   ]
  }
 ],
 "metadata": {
  "kernelspec": {
   "display_name": "Python 3 (ipykernel)",
   "language": "python",
   "name": "python3"
  }
 },
 "nbformat": 4,
 "nbformat_minor": 2
}
